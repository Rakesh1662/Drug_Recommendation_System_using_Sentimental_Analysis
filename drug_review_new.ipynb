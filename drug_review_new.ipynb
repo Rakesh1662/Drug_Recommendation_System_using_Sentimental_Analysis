{
 "cells": [
  {
   "cell_type": "code",
   "execution_count": 2,
   "id": "ad8f0d89",
   "metadata": {
    "scrolled": true
   },
   "outputs": [
    {
     "name": "stderr",
     "output_type": "stream",
     "text": [
      "Using TensorFlow backend.\n",
      "c:\\users\\badri\\appdata\\local\\programs\\python\\python36\\lib\\site-packages\\tensorflow\\python\\framework\\dtypes.py:516: FutureWarning: Passing (type, 1) or '1type' as a synonym of type is deprecated; in a future version of numpy, it will be understood as (type, (1,)) / '(1,)type'.\n",
      "  _np_qint8 = np.dtype([(\"qint8\", np.int8, 1)])\n",
      "c:\\users\\badri\\appdata\\local\\programs\\python\\python36\\lib\\site-packages\\tensorflow\\python\\framework\\dtypes.py:517: FutureWarning: Passing (type, 1) or '1type' as a synonym of type is deprecated; in a future version of numpy, it will be understood as (type, (1,)) / '(1,)type'.\n",
      "  _np_quint8 = np.dtype([(\"quint8\", np.uint8, 1)])\n",
      "c:\\users\\badri\\appdata\\local\\programs\\python\\python36\\lib\\site-packages\\tensorflow\\python\\framework\\dtypes.py:518: FutureWarning: Passing (type, 1) or '1type' as a synonym of type is deprecated; in a future version of numpy, it will be understood as (type, (1,)) / '(1,)type'.\n",
      "  _np_qint16 = np.dtype([(\"qint16\", np.int16, 1)])\n",
      "c:\\users\\badri\\appdata\\local\\programs\\python\\python36\\lib\\site-packages\\tensorflow\\python\\framework\\dtypes.py:519: FutureWarning: Passing (type, 1) or '1type' as a synonym of type is deprecated; in a future version of numpy, it will be understood as (type, (1,)) / '(1,)type'.\n",
      "  _np_quint16 = np.dtype([(\"quint16\", np.uint16, 1)])\n",
      "c:\\users\\badri\\appdata\\local\\programs\\python\\python36\\lib\\site-packages\\tensorflow\\python\\framework\\dtypes.py:520: FutureWarning: Passing (type, 1) or '1type' as a synonym of type is deprecated; in a future version of numpy, it will be understood as (type, (1,)) / '(1,)type'.\n",
      "  _np_qint32 = np.dtype([(\"qint32\", np.int32, 1)])\n",
      "c:\\users\\badri\\appdata\\local\\programs\\python\\python36\\lib\\site-packages\\tensorflow\\python\\framework\\dtypes.py:525: FutureWarning: Passing (type, 1) or '1type' as a synonym of type is deprecated; in a future version of numpy, it will be understood as (type, (1,)) / '(1,)type'.\n",
      "  np_resource = np.dtype([(\"resource\", np.ubyte, 1)])\n"
     ]
    }
   ],
   "source": [
    "# Import necessary libraries\n",
    "import pandas as pd\n",
    "import numpy as np\n",
    "import seaborn as sns\n",
    "import matplotlib.pyplot as plt\n",
    "from keras.models import Sequential\n",
    "from keras.layers import Embedding, Conv1D, MaxPooling1D, LSTM, Dropout, Dense\n",
    "from keras.preprocessing.text import Tokenizer\n",
    "from keras.preprocessing.sequence import pad_sequences\n",
    "from sklearn.metrics import accuracy_score, cohen_kappa_score, confusion_matrix, classification_report\n",
    "import pickle"
   ]
  },
  {
   "cell_type": "code",
   "execution_count": 3,
   "id": "6ef9d065",
   "metadata": {},
   "outputs": [],
   "source": [
    "train_df = pd.read_csv(\"drugsComTrain_raw.csv\", sep=',')\n",
    "test_df = pd.read_csv(\"drugsComTest_raw.csv\", sep=',')"
   ]
  },
  {
   "cell_type": "code",
   "execution_count": 4,
   "id": "fdccd34f",
   "metadata": {},
   "outputs": [
    {
     "name": "stdout",
     "output_type": "stream",
     "text": [
      "Train shape : (161297, 7)\n",
      "Test shape : (53766, 7)\n"
     ]
    }
   ],
   "source": [
    "print(\"Train shape :\" ,train_df.shape)\n",
    "print(\"Test shape :\", test_df.shape)"
   ]
  },
  {
   "cell_type": "code",
   "execution_count": 5,
   "id": "b1152bdd",
   "metadata": {},
   "outputs": [],
   "source": [
    "# Missing Values Removal\n",
    "\n",
    "train_df = train_df.dropna(axis=0)\n",
    "test_df = test_df.dropna(axis=0)"
   ]
  },
  {
   "cell_type": "code",
   "execution_count": 6,
   "id": "518379da",
   "metadata": {},
   "outputs": [],
   "source": [
    "#Preprocessing\n",
    "#Preprocessing is relatively simple, we create a tokenizer and then we tokenize the reviews in both dataframes. After that create variables train_data and test_data that contain the padded sequences obtained from the tokenizer with max length value set to 200.\n",
    "# Use a tokenizer to assign token values to words in the user reviews\n",
    "\n",
    "tokenizer = Tokenizer(num_words=10000)\n",
    "tokenizer.fit_on_texts(train_df['review'])\n",
    "pickle.dump(tokenizer, open(\"tokenizer.pickle\", \"wb\"))\n",
    "\n",
    "train_sequences = tokenizer.texts_to_sequences(train_df['review'])\n",
    "test_sequences = tokenizer.texts_to_sequences(test_df['review'])\n",
    "\n",
    "max_len = 100\n",
    "train_data = pad_sequences(train_sequences, maxlen=max_len)\n",
    "test_data = pad_sequences(test_sequences, maxlen=max_len)\n",
    "\n"
   ]
  },
  {
   "cell_type": "code",
   "execution_count": 7,
   "id": "853bfcff",
   "metadata": {},
   "outputs": [],
   "source": [
    "# Convert rating labels to three classes (negative, neutral, positive)\n",
    "train_labels = np.zeros((len(train_df), 3))\n",
    "train_labels[:,0] = train_df['rating'] < 5\n",
    "train_labels[:,1] = (train_df['rating'] == 5) | (train_df['rating'] == 6)\n",
    "train_labels[:,2] = train_df['rating'] > 6\n",
    "\n",
    "test_labels = np.zeros((len(test_df), 3))\n",
    "test_labels[:,0] = test_df['rating'] < 5\n",
    "test_labels[:,1] = (test_df['rating'] == 5) | (test_df['rating'] == 6)\n",
    "test_labels[:,2] = test_df['rating'] > 6"
   ]
  },
  {
   "cell_type": "code",
   "execution_count": 8,
   "id": "a710d653",
   "metadata": {},
   "outputs": [
    {
     "name": "stdout",
     "output_type": "stream",
     "text": [
      "WARNING:tensorflow:From c:\\users\\badri\\appdata\\local\\programs\\python\\python36\\lib\\site-packages\\keras\\backend\\tensorflow_backend.py:74: The name tf.get_default_graph is deprecated. Please use tf.compat.v1.get_default_graph instead.\n",
      "\n",
      "WARNING:tensorflow:From c:\\users\\badri\\appdata\\local\\programs\\python\\python36\\lib\\site-packages\\keras\\backend\\tensorflow_backend.py:517: The name tf.placeholder is deprecated. Please use tf.compat.v1.placeholder instead.\n",
      "\n",
      "WARNING:tensorflow:From c:\\users\\badri\\appdata\\local\\programs\\python\\python36\\lib\\site-packages\\keras\\backend\\tensorflow_backend.py:4138: The name tf.random_uniform is deprecated. Please use tf.random.uniform instead.\n",
      "\n",
      "WARNING:tensorflow:From c:\\users\\badri\\appdata\\local\\programs\\python\\python36\\lib\\site-packages\\keras\\backend\\tensorflow_backend.py:3976: The name tf.nn.max_pool is deprecated. Please use tf.nn.max_pool2d instead.\n",
      "\n",
      "WARNING:tensorflow:From c:\\users\\badri\\appdata\\local\\programs\\python\\python36\\lib\\site-packages\\keras\\backend\\tensorflow_backend.py:133: The name tf.placeholder_with_default is deprecated. Please use tf.compat.v1.placeholder_with_default instead.\n",
      "\n",
      "WARNING:tensorflow:From c:\\users\\badri\\appdata\\local\\programs\\python\\python36\\lib\\site-packages\\keras\\backend\\tensorflow_backend.py:3445: calling dropout (from tensorflow.python.ops.nn_ops) with keep_prob is deprecated and will be removed in a future version.\n",
      "Instructions for updating:\n",
      "Please use `rate` instead of `keep_prob`. Rate should be set to `rate = 1 - keep_prob`.\n",
      "WARNING:tensorflow:From c:\\users\\badri\\appdata\\local\\programs\\python\\python36\\lib\\site-packages\\keras\\optimizers.py:790: The name tf.train.Optimizer is deprecated. Please use tf.compat.v1.train.Optimizer instead.\n",
      "\n",
      "WARNING:tensorflow:From c:\\users\\badri\\appdata\\local\\programs\\python\\python36\\lib\\site-packages\\keras\\backend\\tensorflow_backend.py:3295: The name tf.log is deprecated. Please use tf.math.log instead.\n",
      "\n"
     ]
    }
   ],
   "source": [
    "#Modeling\n",
    "#Define the neural network model\n",
    "model = Sequential()\n",
    "\n",
    "model.add(Embedding(10000, 100, input_length=max_len))\n",
    "model.add(Conv1D(16, 3, activation='relu'))\n",
    "model.add(MaxPooling1D(2))\n",
    "model.add(Dropout(0.4))\n",
    "model.add(LSTM(16))\n",
    "model.add(Dropout(0.3))\n",
    "model.add(Dense(3, activation='softmax'))\n",
    "\n",
    "# Compile the model\n",
    "model.compile(loss='categorical_crossentropy', optimizer='adam', metrics=['accuracy'])"
   ]
  },
  {
   "cell_type": "code",
   "execution_count": 9,
   "id": "3acd45f0",
   "metadata": {},
   "outputs": [
    {
     "name": "stdout",
     "output_type": "stream",
     "text": [
      "_________________________________________________________________\n",
      "Layer (type)                 Output Shape              Param #   \n",
      "=================================================================\n",
      "embedding_1 (Embedding)      (None, 100, 100)          1000000   \n",
      "_________________________________________________________________\n",
      "conv1d_1 (Conv1D)            (None, 98, 16)            4816      \n",
      "_________________________________________________________________\n",
      "max_pooling1d_1 (MaxPooling1 (None, 49, 16)            0         \n",
      "_________________________________________________________________\n",
      "dropout_1 (Dropout)          (None, 49, 16)            0         \n",
      "_________________________________________________________________\n",
      "lstm_1 (LSTM)                (None, 16)                2112      \n",
      "_________________________________________________________________\n",
      "dropout_2 (Dropout)          (None, 16)                0         \n",
      "_________________________________________________________________\n",
      "dense_1 (Dense)              (None, 3)                 51        \n",
      "=================================================================\n",
      "Total params: 1,006,979\n",
      "Trainable params: 1,006,979\n",
      "Non-trainable params: 0\n",
      "_________________________________________________________________\n"
     ]
    }
   ],
   "source": [
    "model.summary()"
   ]
  },
  {
   "cell_type": "code",
   "execution_count": 10,
   "id": "012e7fb6",
   "metadata": {},
   "outputs": [
    {
     "name": "stdout",
     "output_type": "stream",
     "text": [
      "WARNING:tensorflow:From c:\\users\\badri\\appdata\\local\\programs\\python\\python36\\lib\\site-packages\\tensorflow\\python\\ops\\math_grad.py:1250: add_dispatch_support.<locals>.wrapper (from tensorflow.python.ops.array_ops) is deprecated and will be removed in a future version.\n",
      "Instructions for updating:\n",
      "Use tf.where in 2.0, which has the same broadcast rule as np.where\n",
      "Train on 128318 samples, validate on 32080 samples\n",
      "Epoch 1/20\n",
      "128318/128318 [==============================] - 41s 316us/step - loss: 0.6395 - acc: 0.7602 - val_loss: 0.5464 - val_acc: 0.7949\n",
      "Epoch 2/20\n",
      "128318/128318 [==============================] - 39s 307us/step - loss: 0.5201 - acc: 0.8102 - val_loss: 0.5109 - val_acc: 0.8072\n",
      "Epoch 3/20\n",
      "128318/128318 [==============================] - 41s 319us/step - loss: 0.4689 - acc: 0.8268 - val_loss: 0.4967 - val_acc: 0.8139\n",
      "Epoch 4/20\n",
      "128318/128318 [==============================] - 43s 333us/step - loss: 0.4307 - acc: 0.8397 - val_loss: 0.4925 - val_acc: 0.8193\n",
      "Epoch 5/20\n",
      "128318/128318 [==============================] - 40s 309us/step - loss: 0.4014 - acc: 0.8498 - val_loss: 0.4864 - val_acc: 0.8225\n",
      "Epoch 6/20\n",
      "128318/128318 [==============================] - 39s 307us/step - loss: 0.3753 - acc: 0.8593 - val_loss: 0.4957 - val_acc: 0.8246\n",
      "Epoch 7/20\n",
      "128318/128318 [==============================] - 49s 386us/step - loss: 0.3543 - acc: 0.8680 - val_loss: 0.5242 - val_acc: 0.8220\n",
      "Epoch 8/20\n",
      "128318/128318 [==============================] - 47s 365us/step - loss: 0.3363 - acc: 0.8751 - val_loss: 0.4929 - val_acc: 0.8305\n",
      "Epoch 9/20\n",
      "128318/128318 [==============================] - 40s 311us/step - loss: 0.3198 - acc: 0.8824 - val_loss: 0.4911 - val_acc: 0.8328\n",
      "Epoch 10/20\n",
      "128318/128318 [==============================] - 55s 425us/step - loss: 0.3085 - acc: 0.8862 - val_loss: 0.5046 - val_acc: 0.8358\n",
      "Epoch 11/20\n",
      "128318/128318 [==============================] - 63s 494us/step - loss: 0.2934 - acc: 0.8923 - val_loss: 0.5040 - val_acc: 0.8376\n",
      "Epoch 12/20\n",
      "128318/128318 [==============================] - 65s 510us/step - loss: 0.2843 - acc: 0.8963 - val_loss: 0.5104 - val_acc: 0.8403\n",
      "Epoch 13/20\n",
      "128318/128318 [==============================] - 57s 446us/step - loss: 0.2724 - acc: 0.9008 - val_loss: 0.5167 - val_acc: 0.8409\n",
      "Epoch 14/20\n",
      "128318/128318 [==============================] - 51s 399us/step - loss: 0.2653 - acc: 0.9045 - val_loss: 0.5330 - val_acc: 0.8434\n",
      "Epoch 15/20\n",
      "128318/128318 [==============================] - 43s 334us/step - loss: 0.2584 - acc: 0.9075 - val_loss: 0.5342 - val_acc: 0.8377\n",
      "Epoch 16/20\n",
      "128318/128318 [==============================] - 43s 334us/step - loss: 0.2483 - acc: 0.9113 - val_loss: 0.5407 - val_acc: 0.8446\n",
      "Epoch 17/20\n",
      "128318/128318 [==============================] - 44s 341us/step - loss: 0.2418 - acc: 0.9138 - val_loss: 0.5143 - val_acc: 0.8450\n",
      "Epoch 18/20\n",
      "128318/128318 [==============================] - 45s 351us/step - loss: 0.2354 - acc: 0.9168 - val_loss: 0.5658 - val_acc: 0.8428\n",
      "Epoch 19/20\n",
      "128318/128318 [==============================] - 41s 322us/step - loss: 0.2298 - acc: 0.9186 - val_loss: 0.5285 - val_acc: 0.8474\n",
      "Epoch 20/20\n",
      "128318/128318 [==============================] - 40s 314us/step - loss: 0.2228 - acc: 0.9208 - val_loss: 0.5599 - val_acc: 0.8484\n"
     ]
    }
   ],
   "source": [
    "# Train the model\n",
    "history = model.fit(train_data, train_labels, epochs = 20, batch_size = 128, validation_split = 0.2)"
   ]
  },
  {
   "cell_type": "code",
   "execution_count": 11,
   "id": "8a86695e",
   "metadata": {},
   "outputs": [],
   "source": [
    "model.save(\"lstm_model.h5\") "
   ]
  },
  {
   "cell_type": "code",
   "execution_count": 12,
   "id": "160327cf",
   "metadata": {},
   "outputs": [
    {
     "data": {
      "image/png": "[encoded data removed]",
      "text/plain": [
       "<Figure size 432x288 with 1 Axes>"
      ]
     },
     "metadata": {
      "needs_background": "light"
     },
     "output_type": "display_data"
    },
    {
     "data": {
      "image/png": "[encoded data removed]",
      "text/plain": [
       "<Figure size 432x288 with 1 Axes>"
      ]
     },
     "metadata": {
      "needs_background": "light"
     },
     "output_type": "display_data"
    }
   ],
   "source": [
    "# Performance and evaluation\n",
    "# Accuracy plot\n",
    "plt.plot(history.history['acc'])\n",
    "plt.plot(history.history['val_acc'])\n",
    "plt.title('model accuracy')\n",
    "plt.ylabel('accuracy')\n",
    "plt.xlabel('epoch')\n",
    "plt.legend(['train', 'val'], loc='upper left')\n",
    "plt.savefig('accuracy.png')\n",
    "plt.show()\n",
    "\n",
    "# Loss plot\n",
    "plt.plot(history.history['loss'])\n",
    "plt.plot(history.history['val_loss'])\n",
    "plt.title('model loss')\n",
    "plt.ylabel('loss')\n",
    "plt.xlabel('epoch')\n",
    "plt.legend(['train', 'val'], loc='upper left')\n",
    "plt.savefig('loss.png')\n",
    "plt.show()"
   ]
  },
  {
   "cell_type": "code",
   "execution_count": 13,
   "id": "d9e407fe",
   "metadata": {},
   "outputs": [
    {
     "name": "stdout",
     "output_type": "stream",
     "text": [
      "Accuracy: 0.8496194198724543\n",
      "Cohen's Kappa: 0.6813529701303398\n",
      "Classification Report:\n",
      "              precision    recall  f1-score   support\n",
      "\n",
      "           0       0.82      0.78      0.80     13428\n",
      "           1       0.56      0.38      0.45      4793\n",
      "           2       0.88      0.94      0.91     35250\n",
      "\n",
      "    accuracy                           0.85     53471\n",
      "   macro avg       0.76      0.70      0.72     53471\n",
      "weighted avg       0.84      0.85      0.84     53471\n",
      "\n"
     ]
    },
    {
     "data": {
      "image/png": "[encoded data removed]",
      "text/plain": [
       "<Figure size 432x288 with 2 Axes>"
      ]
     },
     "metadata": {
      "needs_background": "light"
     },
     "output_type": "display_data"
    }
   ],
   "source": [
    "# Evaluate the model on the test data\n",
    "y_pred = np.argmax(model.predict(test_data), axis = -1)\n",
    "y_labels = np.argmax(test_labels, axis = 1)\n",
    "\n",
    "acc = accuracy_score(y_labels, y_pred)\n",
    "kappa = cohen_kappa_score(y_labels, y_pred)\n",
    "conf_matrix = confusion_matrix(y_labels, y_pred)\n",
    "cr = classification_report(y_labels, y_pred)\n",
    "\n",
    "# Print the evaluation metrics\n",
    "print(\"Accuracy:\", acc)\n",
    "print(\"Cohen's Kappa:\", kappa)\n",
    "print(\"Classification Report:\")\n",
    "print(cr)\n",
    "\n",
    "# Create heatmap of the confusion matrix\n",
    "ax = plt.subplot()\n",
    "sns.heatmap(conf_matrix, annot = True, fmt = 'g', ax = ax, cmap = 'Blues');\n",
    "\n",
    "# labels, title and ticks\n",
    "ax.set_xlabel('Predicted');ax.set_ylabel('Actual'); \n",
    "ax.set_title('Confusion Matrix'); \n",
    "ax.xaxis.set_ticklabels(['Negative', 'Neutral', 'Positive']); ax.yaxis.set_ticklabels(['Negative', 'Neutral', 'Positive']);"
   ]
  },
  {
   "cell_type": "code",
   "execution_count": 14,
   "id": "502d7f0d",
   "metadata": {},
   "outputs": [
    {
     "name": "stdout",
     "output_type": "stream",
     "text": [
      "WARNING:tensorflow:From c:\\users\\badri\\appdata\\local\\programs\\python\\python36\\lib\\site-packages\\tensorflow\\python\\keras\\initializers.py:119: calling RandomUniform.__init__ (from tensorflow.python.ops.init_ops) with dtype is deprecated and will be removed in a future version.\n",
      "Instructions for updating:\n",
      "Call initializer instance with the dtype argument instead of passing it to the constructor\n"
     ]
    }
   ],
   "source": [
    "from tensorflow.keras.models import load_model\n",
    "import pickle\n",
    "model_path = 'lstm_model.h5'\n",
    "model = load_model(model_path)\n",
    "with open('tokenizer.pickle', 'rb') as f:\n",
    "    tokenizer = pickle.load(f)\n",
    "\n",
    "def sentiment_analysis(review):\n",
    "    \n",
    "    \n",
    "    tokenizer_sequence = tokenizer.texts_to_sequences([review])\n",
    "    # pad the sequence\n",
    "    sequence = pad_sequences(tokenizer_sequence, maxlen=100)\n",
    "    # get the prediction\n",
    "    prediction = model.predict(sequence)[0]\n",
    "    # one-hot encoded vector, revert using np.argmax\n",
    "    #int2label = {(1,2,3,4,5): \"Negative\", 5:\"neutral\", (6,7,8,9,10): \"Positive\"}\n",
    "    #result=int2label[np.argmax(prediction)]\n",
    "    #print(\"res=\",np.argmax(prediction))\n",
    "    \n",
    "    res=np.argmax(prediction)\n",
    "    \n",
    "    \n",
    "    if res==0:\n",
    "        return \"Negative\"\n",
    "    elif res==1:\n",
    "        return \"Neutral\"  \n",
    "    elif res==2:\n",
    "        return \"Positive\"\n",
    "    "
   ]
  },
  {
   "cell_type": "code",
   "execution_count": 15,
   "id": "bc3e2ca2",
   "metadata": {},
   "outputs": [],
   "source": [
    "# lets find the Highest and Lowest Rated Drugs for each Condition\n",
    "import pandas as pd\n",
    "\n",
    "data = pd.read_csv(\"drugsComTrain_raw.csv\", sep=',')\n"
   ]
  },
  {
   "cell_type": "code",
   "execution_count": 16,
   "id": "94e20fdb",
   "metadata": {},
   "outputs": [
    {
     "data": {
      "application/vnd.jupyter.widget-view+json": {
       "model_id": "abfaebcea9ce4f6ea8d2b5c8462bb3e0",
       "version_major": 2,
       "version_minor": 0
      },
      "text/plain": [
       "interactive(children=(Dropdown(description='condition', options=('Select a condition', 'Birth Control', 'Depre…"
      ]
     },
     "metadata": {},
     "output_type": "display_data"
    }
   ],
   "source": [
    "from ipywidgets import interact\n",
    "\n",
    "@interact\n",
    "def high_low_rate(condition=list(['Select a condition'] + data['condition'].value_counts().index.tolist())):\n",
    "#def high_low_rate(condition=list(['Select a condition'] + data['condition'].value_counts().index.tolist())):\n",
    "    if condition == 'Select a condition':\n",
    "        #print(\"Please select a valid condition.\")\n",
    "        return\n",
    "\n",
    "    # Print the selected condition\n",
    "    print(f\"Selected condition: {condition}\")\n",
    "    \n",
    "    sentiment_list = []\n",
    "   \n",
    "    data2 = data[data['condition'] == condition][['drugName','review']]\n",
    "    drug = data2[\"drugName\"]\n",
    "    review = data2[\"review\"]\n",
    "     \n",
    "    drug_list = drug.tolist()\n",
    "    review_list = review.tolist()\n",
    "    \n",
    "    #print(\"drug_list\",len(drug_list))\n",
    "    #print(len(review_list))\n",
    "    \n",
    "    \n",
    "    for review in review_list:\n",
    "        res = sentiment_analysis(review)\n",
    "        #print(\"result\",res)\n",
    "        sentiment_list.append(res)\n",
    "    \n",
    "    drug_rec = set()\n",
    "    for i,sentiment in enumerate(sentiment_list):\n",
    "        if sentiment==\"Positive\":\n",
    "            drug_rec.add(drug_list[i])\n",
    "    print(\"Recommended Drugs:\")\n",
    "    print(\"-\"*20)\n",
    "    \n",
    "    \n",
    "    for drug in list(drug_rec)[0:5]:\n",
    "        print(drug)\n",
    "        \n",
    "        \n",
    "        \n",
    "    \n",
    "    \n",
    "\n",
    "# Run the interactive widget\n",
    "#high_low_rate()\n"
   ]
  },
  {
   "cell_type": "code",
   "execution_count": null,
   "id": "9b923b00",
   "metadata": {},
   "outputs": [],
   "source": []
  }
 ],
 "metadata": {
  "kernelspec": {
   "display_name": "Python 3",
   "language": "python",
   "name": "python3"
  },
  "language_info": {
   "codemirror_mode": {
    "name": "ipython",
    "version": 3
   },
   "file_extension": ".py",
   "mimetype": "text/x-python",
   "name": "python",
   "nbconvert_exporter": "python",
   "pygments_lexer": "ipython3",
   "version": "3.6.7"
  }
 },
 "nbformat": 4,
 "nbformat_minor": 5
}
